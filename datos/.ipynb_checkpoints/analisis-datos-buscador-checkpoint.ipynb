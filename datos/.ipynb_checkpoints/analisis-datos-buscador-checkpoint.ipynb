{
 "cells": [
  {
   "cell_type": "markdown",
   "id": "1ad144e4",
   "metadata": {},
   "source": [
    "# Análisis de la base de datos de buscar.combatientes.es"
   ]
  },
  {
   "cell_type": "markdown",
   "id": "4fe3ff78",
   "metadata": {},
   "source": [
    "En este cuaderno se analizan algunos datos que luego se utilizan en el reportaje *Las víctimas de la memoria* sobre el número de desaparecidos que se incluyen en el buscador de víctimas de la guerra civil española y la dictadura franquista [buscar.combatientes.es](https://buscar.combatientes.es/), para el Trabajo Fin de Máster de Cristina Alonso Pascual, alumna del Máster en Periodismo y Visualización de Datos de la Universidad de Alcalá (UAH)."
   ]
  },
  {
   "cell_type": "markdown",
   "id": "74125b37",
   "metadata": {},
   "source": [
    "Las anotaciones del cuaderno se usan a modo de explicación dentro de cada celda de código para narrar el proceso que se ha seguido a la hora de analizar los datos."
   ]
  },
  {
   "cell_type": "code",
   "execution_count": 1,
   "id": "9a637275",
   "metadata": {},
   "outputs": [],
   "source": [
    "# Importo las librerías\n",
    "import pandas as pd\n",
    "import numpy as np"
   ]
  },
  {
   "cell_type": "code",
   "execution_count": 4,
   "id": "f6b9ef31",
   "metadata": {},
   "outputs": [],
   "source": [
    "# Leemos el archivo de excel proporcionado por Hernán (tarda, ya que pesa bastante)\n",
    "combatientes = pd.read_excel('./datos-buscador-combatientes.xlsx')"
   ]
  },
  {
   "cell_type": "code",
   "execution_count": 5,
   "id": "0f3bf82a",
   "metadata": {},
   "outputs": [
    {
     "data": {
      "text/html": [
       "<div>\n",
       "<style scoped>\n",
       "    .dataframe tbody tr th:only-of-type {\n",
       "        vertical-align: middle;\n",
       "    }\n",
       "\n",
       "    .dataframe tbody tr th {\n",
       "        vertical-align: top;\n",
       "    }\n",
       "\n",
       "    .dataframe thead th {\n",
       "        text-align: right;\n",
       "    }\n",
       "</style>\n",
       "<table border=\"1\" class=\"dataframe\">\n",
       "  <thead>\n",
       "    <tr style=\"text-align: right;\">\n",
       "      <th></th>\n",
       "      <th>ncomp</th>\n",
       "      <th>nalt</th>\n",
       "      <th>ap1</th>\n",
       "      <th>ap2</th>\n",
       "      <th>nom</th>\n",
       "      <th>base</th>\n",
       "      <th>loc</th>\n",
       "      <th>link</th>\n",
       "      <th>linkbc</th>\n",
       "      <th>id</th>\n",
       "    </tr>\n",
       "  </thead>\n",
       "  <tbody>\n",
       "    <tr>\n",
       "      <th>0</th>\n",
       "      <td>SUAREZ BARBIN, Maximino</td>\n",
       "      <td>MAXIMINO SUAREZ BARBIN</td>\n",
       "      <td>SUAREZ</td>\n",
       "      <td>BARBIN</td>\n",
       "      <td>MAXIMINO</td>\n",
       "      <td>0</td>\n",
       "      <td>[006] Ejercito de Asturias, Batallon Asturias ...</td>\n",
       "      <td>https://buscar.combatientes.es/Documento</td>\n",
       "      <td>/Maximino/Suarez/Barbin/</td>\n",
       "      <td>1</td>\n",
       "    </tr>\n",
       "    <tr>\n",
       "      <th>1</th>\n",
       "      <td>PEREZ ABUIN, Fructuoso</td>\n",
       "      <td>FRUCTUOSO PEREZ ABUIN</td>\n",
       "      <td>PEREZ</td>\n",
       "      <td>ABUIN</td>\n",
       "      <td>FRUCTUOSO</td>\n",
       "      <td>0</td>\n",
       "      <td>[006] Ejercito de Asturias, Batallon Asturias ...</td>\n",
       "      <td>https://buscar.combatientes.es/Documento</td>\n",
       "      <td>/Fructuoso/Perez/Abuin/</td>\n",
       "      <td>2</td>\n",
       "    </tr>\n",
       "    <tr>\n",
       "      <th>2</th>\n",
       "      <td>FERNANDEZ IGLESIAS, Oscar</td>\n",
       "      <td>OSCAR FERNANDEZ IGLESIAS</td>\n",
       "      <td>FERNANDEZ</td>\n",
       "      <td>IGLESIAS</td>\n",
       "      <td>OSCAR</td>\n",
       "      <td>0</td>\n",
       "      <td>[006] Ejercito de Asturias, Batallon Asturias ...</td>\n",
       "      <td>https://buscar.combatientes.es/Documento</td>\n",
       "      <td>/Oscar/Fernandez/Iglesias/</td>\n",
       "      <td>3</td>\n",
       "    </tr>\n",
       "    <tr>\n",
       "      <th>3</th>\n",
       "      <td>PELAEZ DELGADO, Jose</td>\n",
       "      <td>JOSE PELAEZ DELGADO</td>\n",
       "      <td>PELAEZ</td>\n",
       "      <td>DELGADO</td>\n",
       "      <td>JOSE</td>\n",
       "      <td>0</td>\n",
       "      <td>[006] Ejercito de Asturias, Batallon Asturias ...</td>\n",
       "      <td>https://buscar.combatientes.es/Documento</td>\n",
       "      <td>/Jose/Pelaez/Delgado/</td>\n",
       "      <td>4</td>\n",
       "    </tr>\n",
       "    <tr>\n",
       "      <th>4</th>\n",
       "      <td>FERNANDEZ GARCIA, Marcelino</td>\n",
       "      <td>MARCELINO FERNANDEZ GARCIA</td>\n",
       "      <td>FERNANDEZ</td>\n",
       "      <td>GARCIA</td>\n",
       "      <td>MARCELINO</td>\n",
       "      <td>0</td>\n",
       "      <td>[006] Ejercito de Asturias, Batallon Asturias ...</td>\n",
       "      <td>https://buscar.combatientes.es/Documento</td>\n",
       "      <td>/Marcelino/Fernandez/Garcia/</td>\n",
       "      <td>5</td>\n",
       "    </tr>\n",
       "    <tr>\n",
       "      <th>5</th>\n",
       "      <td>NUÑEZ CAMONOR, Casimiro</td>\n",
       "      <td>CASIMIRO NUÑEZ CAMONOR</td>\n",
       "      <td>NUÑEZ</td>\n",
       "      <td>CAMONOR</td>\n",
       "      <td>CASIMIRO</td>\n",
       "      <td>0</td>\n",
       "      <td>[006] Ejercito de Asturias, Batallon Asturias ...</td>\n",
       "      <td>https://buscar.combatientes.es/Documento</td>\n",
       "      <td>/Casimiro/Nuñez/Camonor/</td>\n",
       "      <td>6</td>\n",
       "    </tr>\n",
       "    <tr>\n",
       "      <th>6</th>\n",
       "      <td>OUJO GONZALO, Antonio</td>\n",
       "      <td>ANTONIO OUJO GONZALO</td>\n",
       "      <td>OUJO</td>\n",
       "      <td>GONZALO</td>\n",
       "      <td>ANTONIO</td>\n",
       "      <td>0</td>\n",
       "      <td>[006] Ejercito de Asturias, Batallon Asturias ...</td>\n",
       "      <td>https://buscar.combatientes.es/Documento</td>\n",
       "      <td>/Antonio/Oujo/Gonzalo/</td>\n",
       "      <td>7</td>\n",
       "    </tr>\n",
       "    <tr>\n",
       "      <th>7</th>\n",
       "      <td>CARON BLANCO, Emilio</td>\n",
       "      <td>EMILIO CARON BLANCO</td>\n",
       "      <td>CARON</td>\n",
       "      <td>BLANCO</td>\n",
       "      <td>EMILIO</td>\n",
       "      <td>0</td>\n",
       "      <td>[006] Ejercito de Asturias, Batallon Asturias ...</td>\n",
       "      <td>https://buscar.combatientes.es/Documento</td>\n",
       "      <td>/Emilio/Caron/Blanco/</td>\n",
       "      <td>8</td>\n",
       "    </tr>\n",
       "    <tr>\n",
       "      <th>8</th>\n",
       "      <td>SUAREZ ALVAREZ, Antonio</td>\n",
       "      <td>ANTONIO SUAREZ ALVAREZ</td>\n",
       "      <td>SUAREZ</td>\n",
       "      <td>ALVAREZ</td>\n",
       "      <td>ANTONIO</td>\n",
       "      <td>0</td>\n",
       "      <td>[006] Ejercito de Asturias, Batallon Asturias ...</td>\n",
       "      <td>https://buscar.combatientes.es/Documento</td>\n",
       "      <td>/Antonio/Suarez/Alvarez/</td>\n",
       "      <td>9</td>\n",
       "    </tr>\n",
       "    <tr>\n",
       "      <th>9</th>\n",
       "      <td>URUEÑA ROLDAN, Jose</td>\n",
       "      <td>JOSE URUEÑA ROLDAN</td>\n",
       "      <td>URUEÑA</td>\n",
       "      <td>ROLDAN</td>\n",
       "      <td>JOSE</td>\n",
       "      <td>0</td>\n",
       "      <td>[006] Ejercito de Asturias, Batallon Asturias ...</td>\n",
       "      <td>https://buscar.combatientes.es/Documento</td>\n",
       "      <td>/Jose/Urueña/Roldan/</td>\n",
       "      <td>10</td>\n",
       "    </tr>\n",
       "  </tbody>\n",
       "</table>\n",
       "</div>"
      ],
      "text/plain": [
       "                         ncomp                        nalt        ap1  \\\n",
       "0      SUAREZ BARBIN, Maximino      MAXIMINO SUAREZ BARBIN     SUAREZ   \n",
       "1       PEREZ ABUIN, Fructuoso       FRUCTUOSO PEREZ ABUIN      PEREZ   \n",
       "2    FERNANDEZ IGLESIAS, Oscar    OSCAR FERNANDEZ IGLESIAS  FERNANDEZ   \n",
       "3         PELAEZ DELGADO, Jose         JOSE PELAEZ DELGADO     PELAEZ   \n",
       "4  FERNANDEZ GARCIA, Marcelino  MARCELINO FERNANDEZ GARCIA  FERNANDEZ   \n",
       "5      NUÑEZ CAMONOR, Casimiro      CASIMIRO NUÑEZ CAMONOR      NUÑEZ   \n",
       "6        OUJO GONZALO, Antonio        ANTONIO OUJO GONZALO       OUJO   \n",
       "7         CARON BLANCO, Emilio         EMILIO CARON BLANCO      CARON   \n",
       "8      SUAREZ ALVAREZ, Antonio      ANTONIO SUAREZ ALVAREZ     SUAREZ   \n",
       "9          URUEÑA ROLDAN, Jose          JOSE URUEÑA ROLDAN     URUEÑA   \n",
       "\n",
       "        ap2        nom  base  \\\n",
       "0    BARBIN   MAXIMINO     0   \n",
       "1     ABUIN  FRUCTUOSO     0   \n",
       "2  IGLESIAS      OSCAR     0   \n",
       "3   DELGADO       JOSE     0   \n",
       "4    GARCIA  MARCELINO     0   \n",
       "5   CAMONOR   CASIMIRO     0   \n",
       "6   GONZALO    ANTONIO     0   \n",
       "7    BLANCO     EMILIO     0   \n",
       "8   ALVAREZ    ANTONIO     0   \n",
       "9    ROLDAN       JOSE     0   \n",
       "\n",
       "                                                 loc  \\\n",
       "0  [006] Ejercito de Asturias, Batallon Asturias ...   \n",
       "1  [006] Ejercito de Asturias, Batallon Asturias ...   \n",
       "2  [006] Ejercito de Asturias, Batallon Asturias ...   \n",
       "3  [006] Ejercito de Asturias, Batallon Asturias ...   \n",
       "4  [006] Ejercito de Asturias, Batallon Asturias ...   \n",
       "5  [006] Ejercito de Asturias, Batallon Asturias ...   \n",
       "6  [006] Ejercito de Asturias, Batallon Asturias ...   \n",
       "7  [006] Ejercito de Asturias, Batallon Asturias ...   \n",
       "8  [006] Ejercito de Asturias, Batallon Asturias ...   \n",
       "9  [006] Ejercito de Asturias, Batallon Asturias ...   \n",
       "\n",
       "                                       link                        linkbc  id  \n",
       "0  https://buscar.combatientes.es/Documento      /Maximino/Suarez/Barbin/   1  \n",
       "1  https://buscar.combatientes.es/Documento       /Fructuoso/Perez/Abuin/   2  \n",
       "2  https://buscar.combatientes.es/Documento    /Oscar/Fernandez/Iglesias/   3  \n",
       "3  https://buscar.combatientes.es/Documento         /Jose/Pelaez/Delgado/   4  \n",
       "4  https://buscar.combatientes.es/Documento  /Marcelino/Fernandez/Garcia/   5  \n",
       "5  https://buscar.combatientes.es/Documento      /Casimiro/Nuñez/Camonor/   6  \n",
       "6  https://buscar.combatientes.es/Documento        /Antonio/Oujo/Gonzalo/   7  \n",
       "7  https://buscar.combatientes.es/Documento         /Emilio/Caron/Blanco/   8  \n",
       "8  https://buscar.combatientes.es/Documento      /Antonio/Suarez/Alvarez/   9  \n",
       "9  https://buscar.combatientes.es/Documento          /Jose/Urueña/Roldan/  10  "
      ]
     },
     "execution_count": 5,
     "metadata": {},
     "output_type": "execute_result"
    }
   ],
   "source": [
    "# Previsualización de los datos\n",
    "# Seleccionamos solo las diez primeras filas\n",
    "combatientes.head(10)"
   ]
  },
  {
   "cell_type": "code",
   "execution_count": 6,
   "id": "3c9cac77",
   "metadata": {},
   "outputs": [
    {
     "name": "stdout",
     "output_type": "stream",
     "text": [
      "<class 'pandas.core.frame.DataFrame'>\n",
      "RangeIndex: 1048575 entries, 0 to 1048574\n",
      "Data columns (total 10 columns):\n",
      " #   Column  Non-Null Count    Dtype \n",
      "---  ------  --------------    ----- \n",
      " 0   ncomp   1048575 non-null  object\n",
      " 1   nalt    1034953 non-null  object\n",
      " 2   ap1     1032952 non-null  object\n",
      " 3   ap2     899444 non-null   object\n",
      " 4   nom     1007179 non-null  object\n",
      " 5   base    1048575 non-null  int64 \n",
      " 6   loc     1048571 non-null  object\n",
      " 7   link    1048575 non-null  object\n",
      " 8   linkbc  1048575 non-null  object\n",
      " 9   id      1048575 non-null  int64 \n",
      "dtypes: int64(2), object(8)\n",
      "memory usage: 80.0+ MB\n"
     ]
    }
   ],
   "source": [
    "# Echamos un vistazo a la información del dataframe\n",
    "combatientes.info()"
   ]
  },
  {
   "cell_type": "markdown",
   "id": "cf574af7",
   "metadata": {},
   "source": [
    "Es necesario **entender la base de datos** para analizarla. Al respecto se ha consultado a Hernán, que ha señalado el significado de cada una de las columnas:\n",
    "- *ncomp*: nombre completo en formato \"apellido1 apellido2, nombre\"\n",
    "- *nalt*: nombre alternativo en formato \"nombre apellido1 apellido2\"\n",
    "- *ap1*: primer apellido\n",
    "- *ap2*: segundo apellido\n",
    "- *nom*: nombre\n",
    "- *base*: código numérico que se refiere al título del lote de documentos\n",
    "- *loc*: aunque viene de 'localizador' incluye toda la información disponible de la persona incluida en el documento concreto\n",
    "- *link*: link externo del documento\n",
    "- *linkbc*: link dentro de la página buscar.combatientes.es\n",
    "- *id*: identificador para agrupar resultados, por ejemplo, cuando hay un juicio seguido contra varias personas"
   ]
  },
  {
   "cell_type": "code",
   "execution_count": 12,
   "id": "157725c7",
   "metadata": {},
   "outputs": [
    {
     "data": {
      "text/plain": [
       "695701"
      ]
     },
     "execution_count": 12,
     "metadata": {},
     "output_type": "execute_result"
    }
   ],
   "source": [
    "# Quiero ver el número de individuos de los que hay registros\n",
    "# Puedo ver una lista y luego contar sus elementos\n",
    "lista = combatientes[\"ncomp\"].unique()\n",
    "len(lista)"
   ]
  },
  {
   "cell_type": "code",
   "execution_count": 14,
   "id": "505708e2",
   "metadata": {},
   "outputs": [
    {
     "data": {
      "text/plain": [
       "695701"
      ]
     },
     "execution_count": 14,
     "metadata": {},
     "output_type": "execute_result"
    }
   ],
   "source": [
    "# O hacerlo directamente con nunique\n",
    "combatientes[\"ncomp\"].nunique()"
   ]
  },
  {
   "cell_type": "code",
   "execution_count": 15,
   "id": "32160d57",
   "metadata": {},
   "outputs": [
    {
     "data": {
      "text/plain": [
       " ,                            13622\n",
       "GARCIA GARCIA, Jose             148\n",
       "MARTINEZ MARTINEZ, Jose         146\n",
       "GARCIA , Jose                   139\n",
       "GARCIA ,                        121\n",
       "                              ...  \n",
       "FERNANDEZ VIENDAS, Agustin        1\n",
       "CHAVES DUARTE, Julio              1\n",
       "ESTEBAN CANERAS, Jose             1\n",
       "ABAD FITA, Manuel                 1\n",
       "PARDO CASTELL, Julio              1\n",
       "Name: ncomp, Length: 695701, dtype: int64"
      ]
     },
     "execution_count": 15,
     "metadata": {},
     "output_type": "execute_result"
    }
   ],
   "source": [
    "# También me interesa saber de quién hay más registros en la base de datos\n",
    "combatientes[\"ncomp\"].value_counts(dropna=False)"
   ]
  },
  {
   "cell_type": "code",
   "execution_count": null,
   "id": "2a6af6f9",
   "metadata": {},
   "outputs": [],
   "source": []
  }
 ],
 "metadata": {
  "kernelspec": {
   "display_name": "Python 3 (ipykernel)",
   "language": "python",
   "name": "python3"
  },
  "language_info": {
   "codemirror_mode": {
    "name": "ipython",
    "version": 3
   },
   "file_extension": ".py",
   "mimetype": "text/x-python",
   "name": "python",
   "nbconvert_exporter": "python",
   "pygments_lexer": "ipython3",
   "version": "3.11.1"
  }
 },
 "nbformat": 4,
 "nbformat_minor": 5
}
